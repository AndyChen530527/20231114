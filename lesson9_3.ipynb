{
 "cells": [
  {
   "cell_type": "code",
   "execution_count": 1,
   "metadata": {},
   "outputs": [],
   "source": [
    "\n",
    "class Student:\n",
    "    def __init__(self,n,c,e,m):\n",
    "        #attribute(屬性)\n",
    "        self.name = n\n",
    "        self.chinese = c\n",
    "        self.english = e\n",
    "        self.math = m"
   ]
  },
  {
   "cell_type": "code",
   "execution_count": 2,
   "metadata": {},
   "outputs": [
    {
     "name": "stdout",
     "output_type": "stream",
     "text": [
      "徐國堂\n",
      "78\n",
      "92\n",
      "65\n"
     ]
    }
   ],
   "source": [
    "stu1 = Student(\"徐國堂\",78,92,65)\n",
    "print(stu1.name)\n",
    "print(stu1.chinese)\n",
    "print(stu1.english)\n",
    "print(stu1.math)"
   ]
  },
  {
   "cell_type": "code",
   "execution_count": 3,
   "metadata": {},
   "outputs": [],
   "source": [
    "class Student:\n",
    "    def __init__(self,n,c,e,m):\n",
    "        #attribute(屬性)\n",
    "        self.__name = n #不可以取出和修改\n",
    "        self.chinese = c #可修改的attribute\n",
    "        self.english = e\n",
    "        self.math = m"
   ]
  },
  {
   "cell_type": "code",
   "execution_count": 4,
   "metadata": {},
   "outputs": [
    {
     "name": "stdout",
     "output_type": "stream",
     "text": [
      "78\n",
      "92\n",
      "65\n"
     ]
    }
   ],
   "source": [
    "stu1 = Student(\"徐國堂\",78,92,65)\n",
    "#print(stu1.__name)\n",
    "print(stu1.chinese)\n",
    "print(stu1.english)\n",
    "print(stu1.math)"
   ]
  },
  {
   "cell_type": "code",
   "execution_count": 5,
   "metadata": {},
   "outputs": [
    {
     "name": "stdout",
     "output_type": "stream",
     "text": [
      "100\n",
      "100\n",
      "100\n"
     ]
    }
   ],
   "source": [
    "stu1.chinese = 100\n",
    "stu1.english = 100\n",
    "stu1.math = 100\n",
    "\n",
    "\n",
    "print(stu1.chinese)\n",
    "print(stu1.english)\n",
    "print(stu1.math)"
   ]
  },
  {
   "cell_type": "code",
   "execution_count": 6,
   "metadata": {},
   "outputs": [],
   "source": [
    "class Student:\n",
    "    def __init__(self,n,c,e,m):\n",
    "        #attribute(屬性)\n",
    "        self.__name = n #不可以取出和修改\n",
    "        self.chinese = c #可修改的attribute\n",
    "        self.english = e\n",
    "        self.math = m\n",
    "    \n",
    "    @property  #property(屬性)\n",
    "    def name(self):\n",
    "        return self.__name"
   ]
  },
  {
   "cell_type": "code",
   "execution_count": 7,
   "metadata": {},
   "outputs": [
    {
     "name": "stdout",
     "output_type": "stream",
     "text": [
      "徐國堂\n",
      "78\n",
      "92\n",
      "65\n"
     ]
    }
   ],
   "source": [
    "stu1 = Student(\"徐國堂\",78,92,65)\n",
    "print(stu1.name)\n",
    "print(stu1.chinese)\n",
    "print(stu1.english)\n",
    "print(stu1.math)"
   ]
  },
  {
   "cell_type": "code",
   "execution_count": 8,
   "metadata": {},
   "outputs": [
    {
     "name": "stdout",
     "output_type": "stream",
     "text": [
      "徐國堂\n",
      "100\n",
      "100\n",
      "100\n"
     ]
    }
   ],
   "source": [
    "#stu1.name = \"徐xx\" #property不可以修改內容\n",
    "stu1.chinese = 100\n",
    "stu1.english = 100\n",
    "stu1.math = 100\n",
    "\n",
    "print(stu1.name)\n",
    "print(stu1.chinese)\n",
    "print(stu1.english)\n",
    "print(stu1.math)"
   ]
  },
  {
   "cell_type": "code",
   "execution_count": 9,
   "metadata": {},
   "outputs": [],
   "source": [
    "class Student:\n",
    "    def __init__(self,n,c,e,m):\n",
    "        #attribute(屬性)\n",
    "        self.__name = n #不可以取出和修改\n",
    "        self.chinese = c #可修改的attribute\n",
    "        self.english = e\n",
    "        self.math = m\n",
    "    \n",
    "    @property  #property(屬性)\n",
    "    def name(self):\n",
    "        return self.__name\n",
    "    \n",
    "    def sum(self): #實體方法(method)\n",
    "        return self.chinese + self.english + self.math\n",
    "        def average(self): #實體方法(method)\n",
    "        return self.sum() / 3.0"
   ]
  },
  {
   "cell_type": "code",
   "execution_count": 14,
   "metadata": {},
   "outputs": [
    {
     "name": "stdout",
     "output_type": "stream",
     "text": [
      "徐國堂\n",
      "100\n",
      "100\n",
      "100\n",
      "學生總分是:300\n"
     ]
    },
    {
     "ename": "AttributeError",
     "evalue": "'Student' object has no attribute 'average'",
     "output_type": "error",
     "traceback": [
      "\u001b[0;31m---------------------------------------------------------------------------\u001b[0m",
      "\u001b[0;31mAttributeError\u001b[0m                            Traceback (most recent call last)",
      "\u001b[1;32m/workspaces/20231114/lesson9_3.ipynb 儲存格 10\u001b[0m line \u001b[0;36m1\n\u001b[1;32m      <a href='vscode-notebook-cell://codespaces%2Bfantastic-space-adventure-5gg4qjvw65w9377j5/workspaces/20231114/lesson9_3.ipynb#X12sdnNjb2RlLXJlbW90ZQ%3D%3D?line=8'>9</a>\u001b[0m \u001b[39mprint\u001b[39m(stu1\u001b[39m.\u001b[39mmath)\n\u001b[1;32m     <a href='vscode-notebook-cell://codespaces%2Bfantastic-space-adventure-5gg4qjvw65w9377j5/workspaces/20231114/lesson9_3.ipynb#X12sdnNjb2RlLXJlbW90ZQ%3D%3D?line=9'>10</a>\u001b[0m \u001b[39mprint\u001b[39m(\u001b[39mf\u001b[39m\u001b[39m'\u001b[39m\u001b[39m學生總分是:\u001b[39m\u001b[39m{\u001b[39;00mstu1\u001b[39m.\u001b[39msum()\u001b[39m}\u001b[39;00m\u001b[39m'\u001b[39m)\n\u001b[0;32m---> <a href='vscode-notebook-cell://codespaces%2Bfantastic-space-adventure-5gg4qjvw65w9377j5/workspaces/20231114/lesson9_3.ipynb#X12sdnNjb2RlLXJlbW90ZQ%3D%3D?line=10'>11</a>\u001b[0m \u001b[39mprint\u001b[39m(\u001b[39mf\u001b[39m\u001b[39m'\u001b[39m\u001b[39m學生平均是:\u001b[39m\u001b[39m{\u001b[39;00mstu1\u001b[39m.\u001b[39;49maverage()\u001b[39m:\u001b[39;00m\u001b[39m.2f\u001b[39m\u001b[39m}\u001b[39;00m\u001b[39m'\u001b[39m)\n",
      "\u001b[0;31mAttributeError\u001b[0m: 'Student' object has no attribute 'average'"
     ]
    }
   ],
   "source": [
    "#stu1.name = \"徐xx\" #property不可以修改內容\n",
    "stu1.chinese = 100\n",
    "stu1.english = 100\n",
    "stu1.math = 100\n",
    "\n",
    "print(stu1.name)\n",
    "print(stu1.chinese)\n",
    "print(stu1.english)\n",
    "print(stu1.math)\n",
    "print(f'學生總分是:{stu1.sum()}')\n",
    "print(f'學生平均是:{stu1.average():.2f}')"
   ]
  },
  {
   "cell_type": "code",
   "execution_count": null,
   "metadata": {},
   "outputs": [],
   "source": [
    "class Student:\n",
    "    def __init__(self,n,c,e,m):\n",
    "        #attribute(屬性)\n",
    "        self.__name = n #不可以取出和修改\n",
    "        self.chinese = c #可修改的attribute\n",
    "        self.english = e\n",
    "        self.math = m\n",
    "    \n",
    "    @property  #property(屬性)\n",
    "    def name(self):\n",
    "        return self.__name\n",
    "    \n",
    "    def sum(self): #實體方法(method)\n",
    "        return self.chinese + self.english + self.math\n",
    "        def average(self): #實體方法(method)\n",
    "        return self.sum() / 3.0"
   ]
  },
  {
   "cell_type": "code",
   "execution_count": null,
   "metadata": {},
   "outputs": [],
   "source": [
    "#stu1.name = \"徐xx\" #property不可以修改內容\n",
    "stu1.chinese = 100\n",
    "stu1.english = 100\n",
    "stu1.math = 100\n",
    "\n",
    "print(stu1.name)\n",
    "print(stu1.chinese)\n",
    "print(stu1.english)\n",
    "print(stu1.math)\n",
    "print(f'學生總分是:{stu1.sum()}')\n",
    "print(f'學生平均是:{stu1.average():.2f}')"
   ]
  },
  {
   "cell_type": "code",
   "execution_count": null,
   "metadata": {},
   "outputs": [],
   "source": [
    "#stu1.name = \"徐xx\" #property不可以修改內容\n",
    "stu1.chinese = 100\n",
    "stu1.english = 100\n",
    "stu1.math = 100\n",
    "\n",
    "print(stu1.name)\n",
    "print(stu1.chinese)\n",
    "print(stu1.english)\n",
    "print(stu1.math)\n",
    "print(f'學生總分是:{stu1.sum()}')\n",
    "print(f'學生平均是:{stu1.average():.2f}')"
   ]
  },
  {
   "cell_type": "code",
   "execution_count": 11,
   "metadata": {},
   "outputs": [
    {
     "name": "stdout",
     "output_type": "stream",
     "text": [
      "徐國堂\n",
      "100\n",
      "100\n",
      "100\n",
      "學生總分是:300\n"
     ]
    }
   ],
   "source": [
    "#stu1.name = \"徐xx\" #property不可以修改內容\n",
    "stu1.chinese = 100\n",
    "stu1.english = 100\n",
    "stu1.math = 100\n",
    "\n",
    "print(stu1.name)\n",
    "print(stu1.chinese)\n",
    "print(stu1.english)\n",
    "print(stu1.math)\n",
    "print(f'學生總分是:{stu1.sum()}')\n",
    "print(f'學生平均是:{stu1.average():.2f}')"
   ]
  }
 ],
 "metadata": {
  "kernelspec": {
   "display_name": "Python 3",
   "language": "python",
   "name": "python3"
  },
  "language_info": {
   "codemirror_mode": {
    "name": "ipython",
    "version": 3
   },
   "file_extension": ".py",
   "mimetype": "text/x-python",
   "name": "python",
   "nbconvert_exporter": "python",
   "pygments_lexer": "ipython3",
   "version": "3.10.13"
  }
 },
 "nbformat": 4,
 "nbformat_minor": 2
}

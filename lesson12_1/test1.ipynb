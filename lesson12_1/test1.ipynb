{
 "cells": [
  {
   "cell_type": "code",
   "execution_count": 1,
   "metadata": {},
   "outputs": [],
   "source": [
    "stu1 = {\n",
    "    '姓名':'陳怡伶',\n",
    "    '國文':89,\n",
    "    '英文':92,\n",
    "    '數學':83,\n",
    "    '地理':91,\n",
    "    '歷史':65,\n",
    "    }\n",
    "\n",
    "stu2 = {\n",
    "    '姓名':'馮芳如',\n",
    "    '國文':92,\n",
    "    '英文':75,\n",
    "    '數學':92,\n",
    "    '地理':89,\n",
    "    '歷史':77,\n",
    "    }"
   ]
  },
  {
   "cell_type": "code",
   "execution_count": 2,
   "metadata": {},
   "outputs": [
    {
     "data": {
      "text/plain": [
       "[{'姓名': '陳怡伶', '國文': 89, '英文': 92, '數學': 83, '地理': 91, '歷史': 65},\n",
       " {'姓名': '馮芳如', '國文': 92, '英文': 75, '數學': 92, '地理': 89, '歷史': 77}]"
      ]
     },
     "execution_count": 2,
     "metadata": {},
     "output_type": "execute_result"
    }
   ],
   "source": [
    "students = [stu1,stu2]\n",
    "students"
   ]
  },
  {
   "cell_type": "code",
   "execution_count": 3,
   "metadata": {},
   "outputs": [
    {
     "data": {
      "text/plain": [
       "[{'姓名': '陳怡伶', '國文': 89, '英文': 92, '數學': 83, '地理': 91, '歷史': 65},\n",
       " {'姓名': '馮芳如', '國文': 92, '英文': 75, '數學': 92, '地理': 89, '歷史': 77}]"
      ]
     },
     "execution_count": 3,
     "metadata": {},
     "output_type": "execute_result"
    }
   ],
   "source": [
    "def getStudents() -> list[dict]:\n",
    "    stu1 = {\n",
    "        '姓名':'陳怡伶',\n",
    "        '國文':89,\n",
    "        '英文':92,\n",
    "        '數學':83,\n",
    "        '地理':91,\n",
    "        '歷史':65,\n",
    "    }\n",
    "\n",
    "    stu2 = {\n",
    "        '姓名':'馮芳如',\n",
    "        '國文':92,\n",
    "        '英文':75,\n",
    "        '數學':92,\n",
    "        '地理':89,\n",
    "        '歷史':77,\n",
    "        }\n",
    "    students = [stu1,stu2]\n",
    "    return students\n",
    "\n",
    "getStudents()"
   ]
  },
  {
   "cell_type": "code",
   "execution_count": 4,
   "metadata": {},
   "outputs": [
    {
     "data": {
      "text/plain": [
       "[{'姓名': '陳怡伶', '國文': 89, '英文': 92, '數學': 83, '地理': 91, '歷史': 65},\n",
       " {'姓名': '陳怡伶', '國文': 89, '英文': 92, '數學': 83, '地理': 91, '歷史': 65}]"
      ]
     },
     "execution_count": 4,
     "metadata": {},
     "output_type": "execute_result"
    }
   ],
   "source": [
    "def getStudents() -> list[dict]:  \n",
    "    students = []\n",
    "    for i in range(2):\n",
    "        stu = {\n",
    "        '姓名':'陳怡伶',\n",
    "        '國文':89,\n",
    "        '英文':92,\n",
    "        '數學':83,\n",
    "        '地理':91,\n",
    "        '歷史':65,\n",
    "        }\n",
    "        students.append(stu)\n",
    "        \n",
    "    return students\n",
    "\n",
    "getStudents()"
   ]
  },
  {
   "cell_type": "code",
   "execution_count": 5,
   "metadata": {},
   "outputs": [
    {
     "data": {
      "text/plain": [
       "[{'姓名': '陳怡伶', '國文': 71, '英文': 69, '數學': 68, '地理': 49, '歷史': 67},\n",
       " {'姓名': '陳怡伶', '國文': 51, '英文': 45, '數學': 64, '地理': 81, '歷史': 76}]"
      ]
     },
     "execution_count": 5,
     "metadata": {},
     "output_type": "execute_result"
    }
   ],
   "source": [
    "from random import randint\n",
    "\n",
    "def getStudents() -> list[dict]:  \n",
    "    students = []\n",
    "    names = ['陳怡伶','馮芳如']\n",
    "    for i in range(2):\n",
    "        stu = {\n",
    "        '姓名':names[i],\n",
    "        '國文':randint(45,100),\n",
    "        '英文':randint(45,100),\n",
    "        '數學':randint(45,100),\n",
    "        '地理':randint(45,100),\n",
    "        '歷史':randint(45,100),\n",
    "        }\n",
    "        students.append(stu)\n",
    "        \n",
    "    return students\n",
    "\n",
    "getStudents()\n"
   ]
  },
  {
   "cell_type": "code",
   "execution_count": 6,
   "metadata": {},
   "outputs": [
    {
     "data": {
      "text/plain": [
       "[{'姓名': '陳俊憲', '國文': 55, '英文': 71, '數學': 99, '地理': 82, '歷史': 46},\n",
       " {'姓名': '黃江旭', '國文': 77, '英文': 74, '數學': 48, '地理': 54, '歷史': 83}]"
      ]
     },
     "execution_count": 6,
     "metadata": {},
     "output_type": "execute_result"
    }
   ],
   "source": [
    "from random import randint,choices\n",
    "\n",
    "def getStudents() -> list[dict]:  \n",
    "    students = []\n",
    "    with open('names.txt',mode='r',encoding='utf-8') as file:\n",
    "        names:str = file.read()\n",
    "    nameList:list[str] = names.split('\\n')\n",
    "    names = choices(nameList,k=2)\n",
    "    \n",
    "    for i in range(2):\n",
    "        stu = {\n",
    "        '姓名':names[i],\n",
    "        '國文':randint(45,100),\n",
    "        '英文':randint(45,100),\n",
    "        '數學':randint(45,100),\n",
    "        '地理':randint(45,100),\n",
    "        '歷史':randint(45,100),\n",
    "        }\n",
    "        students.append(stu)\n",
    "        \n",
    "    return students\n",
    "\n",
    "getStudents()"
   ]
  },
  {
   "cell_type": "code",
   "execution_count": 7,
   "metadata": {},
   "outputs": [
    {
     "data": {
      "text/plain": [
       "[{'姓名': '吳淑惠', '國文': 71, '英文': 78, '數學': 96, '地理': 89, '歷史': 52},\n",
       " {'姓名': '張凡成', '國文': 45, '英文': 92, '數學': 68, '地理': 76, '歷史': 49},\n",
       " {'姓名': '林佳慧', '國文': 66, '英文': 68, '數學': 61, '地理': 100, '歷史': 80},\n",
       " {'姓名': '王筱婷', '國文': 90, '英文': 59, '數學': 58, '地理': 51, '歷史': 64},\n",
       " {'姓名': '李佳彥', '國文': 81, '英文': 48, '數學': 92, '地理': 84, '歷史': 97},\n",
       " {'姓名': '李彥伸', '國文': 93, '英文': 100, '數學': 92, '地理': 84, '歷史': 81},\n",
       " {'姓名': '林昱芳', '國文': 94, '英文': 75, '數學': 92, '地理': 83, '歷史': 94},\n",
       " {'姓名': '高信宏', '國文': 56, '英文': 87, '數學': 62, '地理': 91, '歷史': 46},\n",
       " {'姓名': '蔡明平', '國文': 63, '英文': 74, '數學': 83, '地理': 73, '歷史': 54},\n",
       " {'姓名': '葉軍仰', '國文': 81, '英文': 87, '數學': 57, '地理': 100, '歷史': 84},\n",
       " {'姓名': '陳彥治', '國文': 53, '英文': 77, '數學': 80, '地理': 71, '歷史': 55},\n",
       " {'姓名': '王人仰', '國文': 90, '英文': 63, '數學': 76, '地理': 52, '歷史': 65},\n",
       " {'姓名': '林益妏', '國文': 65, '英文': 53, '數學': 98, '地理': 75, '歷史': 67},\n",
       " {'姓名': '楊韋廷', '國文': 73, '英文': 81, '數學': 53, '地理': 90, '歷史': 45},\n",
       " {'姓名': '彭茹靖', '國文': 60, '英文': 66, '數學': 94, '地理': 46, '歷史': 56},\n",
       " {'姓名': '王明昇', '國文': 68, '英文': 68, '數學': 56, '地理': 79, '歷史': 47},\n",
       " {'姓名': '林建宏', '國文': 74, '英文': 69, '數學': 99, '地理': 48, '歷史': 83},\n",
       " {'姓名': '陳慧君', '國文': 46, '英文': 55, '數學': 47, '地理': 94, '歷史': 93},\n",
       " {'姓名': '陳倩潔', '國文': 60, '英文': 95, '數學': 60, '地理': 87, '歷史': 80},\n",
       " {'姓名': '陳樂紫', '國文': 96, '英文': 88, '數學': 95, '地理': 63, '歷史': 53},\n",
       " {'姓名': '楊建安', '國文': 63, '英文': 59, '數學': 60, '地理': 76, '歷史': 63},\n",
       " {'姓名': '郭淑真', '國文': 84, '英文': 68, '數學': 56, '地理': 46, '歷史': 46},\n",
       " {'姓名': '高士凱', '國文': 84, '英文': 72, '數學': 58, '地理': 55, '歷史': 53},\n",
       " {'姓名': '王坤安', '國文': 69, '英文': 90, '數學': 60, '地理': 85, '歷史': 75},\n",
       " {'姓名': '吳淑惠', '國文': 59, '英文': 67, '數學': 85, '地理': 48, '歷史': 47},\n",
       " {'姓名': '簡美君', '國文': 57, '英文': 66, '數學': 72, '地理': 87, '歷史': 92},\n",
       " {'姓名': '林士凱', '國文': 98, '英文': 99, '數學': 84, '地理': 77, '歷史': 78},\n",
       " {'姓名': '趙家豪', '國文': 98, '英文': 54, '數學': 91, '地理': 71, '歷史': 84},\n",
       " {'姓名': '方雅慧', '國文': 47, '英文': 48, '數學': 87, '地理': 59, '歷史': 64},\n",
       " {'姓名': '黃心航', '國文': 63, '英文': 50, '數學': 80, '地理': 68, '歷史': 79},\n",
       " {'姓名': '余宗儒', '國文': 100, '英文': 63, '數學': 66, '地理': 71, '歷史': 55},\n",
       " {'姓名': '蔡偉成', '國文': 88, '英文': 98, '數學': 49, '地理': 74, '歷史': 99},\n",
       " {'姓名': '謝佳穎', '國文': 49, '英文': 96, '數學': 59, '地理': 89, '歷史': 58},\n",
       " {'姓名': '羅佩樺', '國文': 85, '英文': 100, '數學': 70, '地理': 49, '歷史': 100},\n",
       " {'姓名': '周琬婷', '國文': 70, '英文': 92, '數學': 78, '地理': 66, '歷史': 56},\n",
       " {'姓名': '李慶亮', '國文': 80, '英文': 100, '數學': 100, '地理': 63, '歷史': 85},\n",
       " {'姓名': '戴萱能', '國文': 75, '英文': 56, '數學': 82, '地理': 64, '歷史': 86},\n",
       " {'姓名': '馮耀中', '國文': 64, '英文': 45, '數學': 79, '地理': 64, '歷史': 45},\n",
       " {'姓名': '黃淑芬', '國文': 96, '英文': 78, '數學': 98, '地理': 89, '歷史': 95},\n",
       " {'姓名': '白世宏', '國文': 48, '英文': 85, '數學': 89, '地理': 83, '歷史': 45},\n",
       " {'姓名': '翁鈺婷', '國文': 71, '英文': 66, '數學': 66, '地理': 90, '歷史': 89},\n",
       " {'姓名': '王坤安', '國文': 49, '英文': 65, '數學': 95, '地理': 49, '歷史': 46},\n",
       " {'姓名': '張彥博', '國文': 72, '英文': 99, '數學': 90, '地理': 79, '歷史': 83},\n",
       " {'姓名': '陳美惠', '國文': 61, '英文': 94, '數學': 97, '地理': 62, '歷史': 60},\n",
       " {'姓名': '翁鈺婷', '國文': 67, '英文': 91, '數學': 51, '地理': 58, '歷史': 55},\n",
       " {'姓名': '陳淑娟', '國文': 64, '英文': 91, '數學': 73, '地理': 88, '歷史': 91},\n",
       " {'姓名': '趙偉銘', '國文': 48, '英文': 66, '數學': 73, '地理': 68, '歷史': 85},\n",
       " {'姓名': '張俊傑', '國文': 88, '英文': 86, '數學': 77, '地理': 61, '歷史': 82},\n",
       " {'姓名': '洪奎夫', '國文': 80, '英文': 58, '數學': 60, '地理': 51, '歷史': 85},\n",
       " {'姓名': '張嘉韋', '國文': 80, '英文': 52, '數學': 80, '地理': 66, '歷史': 76}]"
      ]
     },
     "execution_count": 7,
     "metadata": {},
     "output_type": "execute_result"
    }
   ],
   "source": [
    "from random import randint,choices\n",
    "\n",
    "def getStudents(nums:int) -> list[dict]:  \n",
    "    students:list[dict] = []\n",
    "    with open('names.txt',mode='r',encoding='utf-8') as file:\n",
    "        names:str = file.read()\n",
    "    nameList:list[str] = names.split('\\n')\n",
    "    names:list[str] = choices(nameList,k=nums)\n",
    "\n",
    "    for i in range(nums):\n",
    "        stu = {\n",
    "        '姓名':names[i],\n",
    "        '國文':randint(45,100),\n",
    "        '英文':randint(45,100),\n",
    "        '數學':randint(45,100),\n",
    "        '地理':randint(45,100),\n",
    "        '歷史':randint(45,100),\n",
    "        }\n",
    "        students.append(stu)\n",
    "        \n",
    "    return students\n",
    "\n",
    "students = getStudents(50)\n",
    "students"
   ]
  },
  {
   "cell_type": "code",
   "execution_count": 8,
   "metadata": {},
   "outputs": [
    {
     "name": "stdout",
     "output_type": "stream",
     "text": [
      "請輸入學生的人數(1~50):10\n"
     ]
    },
    {
     "data": {
      "text/plain": [
       "[{'姓名': '賴苑禾', '國文': 78, '英文': 51, '數學': 91, '地理': 82, '歷史': 71},\n",
       " {'姓名': '翁羽威', '國文': 98, '英文': 88, '數學': 66, '地理': 72, '歷史': 55},\n",
       " {'姓名': '吳振瑋', '國文': 82, '英文': 96, '數學': 53, '地理': 100, '歷史': 71},\n",
       " {'姓名': '劉嘉泰', '國文': 58, '英文': 72, '數學': 86, '地理': 77, '歷史': 83},\n",
       " {'姓名': '游淑惠', '國文': 90, '英文': 86, '數學': 47, '地理': 97, '歷史': 65},\n",
       " {'姓名': '張明惟', '國文': 50, '英文': 87, '數學': 71, '地理': 60, '歷史': 88},\n",
       " {'姓名': '陳建豪', '國文': 70, '英文': 48, '數學': 71, '地理': 85, '歷史': 60},\n",
       " {'姓名': '林清英', '國文': 98, '英文': 91, '數學': 81, '地理': 75, '歷史': 98},\n",
       " {'姓名': '蔡明平', '國文': 71, '英文': 74, '數學': 46, '地理': 80, '歷史': 65},\n",
       " {'姓名': '陳筱涵', '國文': 59, '英文': 91, '數學': 92, '地理': 45, '歷史': 100}]"
      ]
     },
     "execution_count": 8,
     "metadata": {},
     "output_type": "execute_result"
    }
   ],
   "source": [
    "import pyinputplus as pyip\n",
    "s_nums:int = pyip.inputInt(\"請輸入學生的人數(1~50):\",min=1,max=50)\n",
    "print(s_nums)\n",
    "students = getStudents(s_nums)\n",
    "students"
   ]
  },
  {
   "cell_type": "code",
   "execution_count": 9,
   "metadata": {},
   "outputs": [
    {
     "name": "stdout",
     "output_type": "stream",
     "text": [
      "寫入成功\n"
     ]
    }
   ],
   "source": [
    "import csv\n",
    "with open(\"class1.csv\",mode='w',encoding='utf-8',newline='') as file:\n",
    "    fieldnames = ['姓名', '國文', '英文', '數學', '地理', '歷史']\n",
    "    writer = csv.DictWriter(file,fieldnames=fieldnames)\n",
    "    writer.writeheader()\n",
    "    writer.writerows(students)\n",
    "print(\"寫入成功\")"
   ]
  },
  {
   "cell_type": "code",
   "execution_count": 10,
   "metadata": {},
   "outputs": [
    {
     "name": "stdout",
     "output_type": "stream",
     "text": [
      "寫入成功\n"
     ]
    }
   ],
   "source": [
    "import csv\n",
    "from csv import DictWriter\n",
    "\n",
    "def save_to_csv(students:list[dict]):\n",
    "    with open(\"class1.csv\",mode='w',encoding='utf-8',newline='') as file:\n",
    "        fieldnames:list[str] = ['姓名', '國文', '英文', '數學', '地理', '歷史']\n",
    "        writer:DictWriter = csv.DictWriter(file,fieldnames=fieldnames)\n",
    "        writer.writeheader()\n",
    "        writer.writerows(students)\n",
    "    print(\"寫入成功\")\n",
    "\n",
    "save_to_csv(students)"
   ]
  },
  {
   "cell_type": "code",
   "execution_count": 11,
   "metadata": {},
   "outputs": [
    {
     "name": "stdout",
     "output_type": "stream",
     "text": [
      "寫入成功\n"
     ]
    }
   ],
   "source": [
    "import csv\n",
    "from csv import DictWriter\n",
    "\n",
    "def save_to_csv(students:list[dict],fileName:str)->None:    \n",
    "    fileNameWithExtension:str = fileName + '.csv'\n",
    "    with open(fileNameWithExtension,mode='w',encoding='utf-8',newline='') as file:\n",
    "        fieldnames:list[str] = ['姓名', '國文', '英文', '數學', '地理', '歷史']\n",
    "        writer:DictWriter = csv.DictWriter(file,fieldnames=fieldnames)\n",
    "        writer.writeheader()\n",
    "        writer.writerows(students)\n",
    "    print(\"寫入成功\")\n",
    "\n",
    "save_to_csv(students,'class2')"
   ]
  }
 ],
 "metadata": {
  "kernelspec": {
   "display_name": "Python 3",
   "language": "python",
   "name": "python3"
  },
  "language_info": {
   "codemirror_mode": {
    "name": "ipython",
    "version": 3
   },
   "file_extension": ".py",
   "mimetype": "text/x-python",
   "name": "python",
   "nbconvert_exporter": "python",
   "pygments_lexer": "ipython3",
   "version": "3.10.13"
  }
 },
 "nbformat": 4,
 "nbformat_minor": 2
}

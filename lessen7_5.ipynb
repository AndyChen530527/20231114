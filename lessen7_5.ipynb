# no 參數,no 傳出值

def sayHello():
    print("Hello")
    
# function 可重復呼叫

sayHello()
sayHello()
sayHello()